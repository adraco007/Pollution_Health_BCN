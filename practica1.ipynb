{
 "cells": [
  {
   "cell_type": "markdown",
   "metadata": {},
   "source": [
    "# Pollution and mental performance in BCN"
   ]
  },
  {
   "cell_type": "markdown",
   "metadata": {},
   "source": [
    "## Inicialització"
   ]
  },
  {
   "cell_type": "code",
   "execution_count": null,
   "metadata": {},
   "outputs": [],
   "source": [
    "import warnings\n",
    "import numpy as np\n",
    "import seaborn as sns \n",
    "import matplotlib.pyplot as plt\n",
    "import math\n",
    "from sklearn.decomposition import PCA\n",
    "warnings.filterwarnings('ignore')"
   ]
  },
  {
   "cell_type": "code",
   "execution_count": null,
   "metadata": {},
   "outputs": [],
   "source": [
    "import pandas as pd\n",
    "\n",
    "df = pd.read_csv('CitieSHealth_BCN_DATA_PanelStudy_20220414.csv')"
   ]
  },
  {
   "cell_type": "markdown",
   "metadata": {},
   "source": [
    "## Anàlisi exploratori de dades inicial"
   ]
  },
  {
   "cell_type": "code",
   "execution_count": null,
   "metadata": {},
   "outputs": [],
   "source": [
    "print(f\"Les seves dimensions són: {df.shape[0]} individus i {df.shape[1]} variables\")\n",
    "print(f\"Llistat de variables: {list(df.columns)}\")"
   ]
  },
  {
   "cell_type": "markdown",
   "metadata": {},
   "source": [
    "Codifiquem algunes variables com a categòriques, i n'eliminem algunes ja que no són rellevants o contenen informació repetida en altres.\n",
    "Més endavant valorarem si, estudiant les correlacions, cal treure'n més."
   ]
  },
  {
   "cell_type": "code",
   "execution_count": null,
   "metadata": {},
   "outputs": [],
   "source": [
    "list_to_cat = ['ID_Zenodo', 'year', 'month', 'day', 'dayoftheweek', 'hour',\n",
    "               'mentalhealth_survey', 'bienestar', 'energia', 'estres', 'sueno', \n",
    "               'occurrence_stroop', 'precip_12h_binary', 'precip_24h_binary',\n",
    "               'noise_total_LDEN_55']\n",
    "\n",
    "for name in list_to_cat:\n",
    "    df[name] = df[name].astype('category')"
   ]
  },
  {
   "cell_type": "code",
   "execution_count": null,
   "metadata": {},
   "outputs": [],
   "source": [
    "covid = ['covid_work', 'covid_mood', 'covid_sleep', 'covid_espacios', 'covid_aire',\n",
    "                'covid_motor', 'covid_electric', 'covid_bikewalk', 'covid_public_trans']"
   ]
  },
  {
   "cell_type": "code",
   "execution_count": null,
   "metadata": {},
   "outputs": [],
   "source": []
  },
  {
   "cell_type": "code",
   "execution_count": null,
   "metadata": {},
   "outputs": [],
   "source": [
    "eliminations = ['date_all', 'mean_incongruent', 'correct', 'response_duration_ms',\n",
    "                'mean_congruent', 'horasfuera', 'performance', 'inhib_control', 'z_mean_incongruent',\n",
    "                'z_inhib_control', 'no2bcn_12h_x30', 'no2bcn_24h_x30', 'no2gps_12h_x30',\n",
    "                'no2gps_24h_x30', 'min_gps', 'hour_gps', 'sec_noise55_day', 'sec_noise65_day',\n",
    "                'sec_greenblue_day', 'Houron', 'Houroff', 'start_day', 'start_month', 'start_year',\n",
    "                'start_hour', 'end_day', 'end_month', 'end_year', 'end_hour', 'Totaltime', \n",
    "                'Totaltime_estimated', 'mentalhealth_survey', 'stroop_test', 'occurrence_stroop',\n",
    "                'yearbirth', 'year', 'month', 'day', 'hour', 'µgm3']\n",
    "df = df.drop(eliminations, axis=1)"
   ]
  },
  {
   "cell_type": "markdown",
   "metadata": {},
   "source": [
    "Procedim a realitzar alguns gràfics"
   ]
  },
  {
   "cell_type": "code",
   "execution_count": null,
   "metadata": {},
   "outputs": [],
   "source": [
    "# Gráfics de distribució per variables numèriques\n",
    "num_cols = df.select_dtypes(include='number').columns\n",
    "num_plots = len(num_cols)\n",
    "num_rows = math.ceil(num_plots / 3)\n",
    "\n",
    "fig, axs = plt.subplots(num_rows, 3, figsize=(15, num_rows*5))\n",
    "axs = axs.ravel()  \n",
    "\n",
    "for i in range(len(axs)):\n",
    "    if i < len(num_cols):\n",
    "        sns.histplot(df[num_cols[i]], kde=True, ax=axs[i])\n",
    "        axs[i].set_title(f'Distribució de {num_cols[i]}')\n",
    "        axs[i].set_xlabel(num_cols[i])\n",
    "        axs[i].set_ylabel('Frequència')\n",
    "    else:\n",
    "        fig.delaxes(axs[i]) \n",
    "\n",
    "plt.tight_layout()\n",
    "plt.show()\n"
   ]
  },
  {
   "cell_type": "code",
   "execution_count": null,
   "metadata": {},
   "outputs": [],
   "source": [
    "# Gráfics de barres per variables categòriques\n",
    "cat_cols = df.select_dtypes(include=['object', 'category']).columns\n",
    "cat_plots = len(cat_cols)\n",
    "cat_rows = math.ceil(cat_plots / 3)\n",
    "\n",
    "fig, axs = plt.subplots(cat_rows, 3, figsize=(15, cat_rows*5))\n",
    "axs = axs.ravel() \n",
    "\n",
    "for i in range(len(axs)):\n",
    "    if i < len(cat_cols):\n",
    "        sns.countplot(data=df, x=cat_cols[i], ax=axs[i])\n",
    "        axs[i].set_title(f'Distribució de {cat_cols[i]}')\n",
    "        axs[i].set_xlabel(cat_cols[i])\n",
    "        axs[i].set_ylabel('Comptador')\n",
    "        axs[i].tick_params(axis='x', rotation=45)\n",
    "    else:\n",
    "        fig.delaxes(axs[i])  \n",
    "\n",
    "plt.tight_layout()\n",
    "plt.show()"
   ]
  },
  {
   "cell_type": "markdown",
   "metadata": {},
   "source": [
    "Visualitzem els missing values per variable"
   ]
  },
  {
   "cell_type": "code",
   "execution_count": null,
   "metadata": {},
   "outputs": [],
   "source": [
    "import missingno as msno\n",
    "msno.matrix(df)\n",
    "\n",
    "missing_values1 = df.isnull().sum()\n",
    "missing_values1 = missing_values1[missing_values1 > 0]\n",
    "missing_values1 = pd.DataFrame(missing_values1, columns=['missing_values'])\n",
    "missing_values1"
   ]
  },
  {
   "cell_type": "code",
   "execution_count": null,
   "metadata": {},
   "outputs": [],
   "source": [
    "df.shape"
   ]
  },
  {
   "cell_type": "code",
   "execution_count": null,
   "metadata": {},
   "outputs": [],
   "source": [
    "# Barplot amb el numero de missing values per fila \n",
    "plt.figure(figsize=(8, 6))\n",
    "sns.countplot(data=df, x=df.isnull().sum(axis=1))\n",
    "plt.title(f'Número de missing values per mostra')\n",
    "plt.xlabel('Número de missing values')\n",
    "plt.ylabel('Comptador')\n",
    "plt.xticks(rotation=45, ha='right')  # Rotar les etiquetes de l'eix x per a una major llegibilitat\n",
    "plt.show()\n"
   ]
  },
  {
   "cell_type": "code",
   "execution_count": null,
   "metadata": {},
   "outputs": [],
   "source": [
    "# Creem un nou DataFrame només amb les variables numèriques\n",
    "df_numeric = df.select_dtypes(include=[np.number])\n",
    "\n",
    "# Calculem la matriu de correlació\n",
    "corr = df_numeric.corr()\n",
    "\n",
    "# Creem una màscara per a la part superior del triangle\n",
    "mask = np.triu(np.ones_like(corr, dtype=bool), k=1)\n",
    "\n",
    "# Plotejem la matriu de correlació\n",
    "plt.figure(figsize=(10, 8))\n",
    "sns.heatmap(corr, mask=mask, annot=False, cmap='coolwarm')\n",
    "plt.title('Matriu de correlacions')\n",
    "plt.show()"
   ]
  },
  {
   "cell_type": "code",
   "execution_count": null,
   "metadata": {},
   "outputs": [],
   "source": [
    "df_numeric = df[['no2gps_24h', 'z_performance']]\n",
    "sns.pairplot(df_numeric, kind='reg', plot_kws={'line_kws':{'color':'red'}})\n",
    "plt.show()"
   ]
  },
  {
   "cell_type": "code",
   "execution_count": null,
   "metadata": {},
   "outputs": [],
   "source": [
    "pca = PCA(n_components=2)\n",
    "\n",
    "no_miss = df_numeric.dropna()\n",
    "X_r = pca.fit_transform(no_miss)\n",
    "\n",
    "# Plot PCA results\n",
    "plt.figure()\n",
    "\n",
    "plt.scatter(X_r[:, 0], X_r[:, 1], color='navy', alpha=.8)\n",
    "plt.title('PCA of numeric variables')\n",
    "\n",
    "plt.show()"
   ]
  },
  {
   "cell_type": "markdown",
   "metadata": {},
   "source": [
    "## Preprocessament"
   ]
  },
  {
   "cell_type": "markdown",
   "metadata": {},
   "source": [
    "CAL SEPARAR EN TRAIN I TEST PERÒ ÉS PER VEURE MÉS O MENYS QUÈ PODEM FER"
   ]
  },
  {
   "cell_type": "markdown",
   "metadata": {},
   "source": [
    "Eliminem els missing de performance"
   ]
  },
  {
   "cell_type": "code",
   "execution_count": null,
   "metadata": {},
   "outputs": [],
   "source": [
    "deleted_na_perf = df.dropna(subset=\"z_performance\")\n",
    "\n",
    "missing_values1 = deleted_na_perf.isnull().sum()\n",
    "missing_values1 = missing_values1[missing_values1 > 0]\n",
    "missing_values1 = pd.DataFrame(missing_values1, columns=['missing_values'])\n",
    "missing_values1"
   ]
  },
  {
   "cell_type": "code",
   "execution_count": null,
   "metadata": {},
   "outputs": [],
   "source": [
    "deleted_na_perf.shape"
   ]
  },
  {
   "cell_type": "code",
   "execution_count": null,
   "metadata": {},
   "outputs": [],
   "source": [
    "deleted_na_perf = deleted_na_perf[deleted_na_perf.isnull().sum(axis=1) < 10]"
   ]
  },
  {
   "cell_type": "code",
   "execution_count": null,
   "metadata": {},
   "outputs": [],
   "source": [
    "deleted_na_perf.shape"
   ]
  },
  {
   "cell_type": "code",
   "execution_count": null,
   "metadata": {},
   "outputs": [],
   "source": [
    "missing_values1 = deleted_na_perf.isnull().sum()\n",
    "missing_values1 = missing_values1[missing_values1 > 0]\n",
    "missing_values1 = pd.DataFrame(missing_values1, columns=['missing_values'])\n",
    "missing_values1"
   ]
  },
  {
   "cell_type": "code",
   "execution_count": null,
   "metadata": {},
   "outputs": [],
   "source": [
    "deleted_na_cols = deleted_na_perf.dropna(axis=1, thresh=len(deleted_na_perf)-280)"
   ]
  },
  {
   "cell_type": "code",
   "execution_count": null,
   "metadata": {},
   "outputs": [],
   "source": [
    "missing_values1 = deleted_na_cols.isnull().sum()\n",
    "missing_values1 = missing_values1[missing_values1 > 0]\n",
    "missing_values1 = pd.DataFrame(missing_values1, columns=['missing_values'])\n",
    "missing_values1"
   ]
  },
  {
   "cell_type": "code",
   "execution_count": null,
   "metadata": {},
   "outputs": [],
   "source": [
    "msno.matrix(deleted_na_cols)"
   ]
  },
  {
   "cell_type": "code",
   "execution_count": null,
   "metadata": {},
   "outputs": [],
   "source": [
    "unique_na = deleted_na_perf.drop_duplicates(\"ID_Zenodo\")"
   ]
  },
  {
   "cell_type": "code",
   "execution_count": null,
   "metadata": {},
   "outputs": [],
   "source": [
    "missing_values1 = unique_na.isnull().sum()\n",
    "missing_values1 = missing_values1[missing_values1 > 0]\n",
    "missing_values1 = pd.DataFrame(missing_values1, columns=['missing_values'])\n",
    "missing_values1"
   ]
  },
  {
   "cell_type": "markdown",
   "metadata": {},
   "source": [
    "## Partició en Train i Test"
   ]
  },
  {
   "cell_type": "code",
   "execution_count": null,
   "metadata": {},
   "outputs": [],
   "source": [
    "from sklearn.model_selection import train_test_split\n",
    "X = deleted_na_cols[deleted_na_cols.columns.drop(\"z_performance\")]\n",
    "y = deleted_na_cols[\"z_performance\"]\n",
    "\n",
    "X_train, X_test, y_train, y_test = train_test_split(X, y, test_size = 0.2, random_state=42)"
   ]
  },
  {
   "cell_type": "code",
   "execution_count": null,
   "metadata": {},
   "outputs": [],
   "source": [
    "num_cols = X_train.select_dtypes(include='number').columns\n",
    "print(X_train[num_cols])"
   ]
  },
  {
   "cell_type": "code",
   "execution_count": null,
   "metadata": {},
   "outputs": [],
   "source": [
    "# Gráfics de barres per variables categòriques\n",
    "cat_cols = X_train.select_dtypes(include=['object', 'category']).columns\n",
    "cat_plots = len(cat_cols)\n",
    "cat_rows = math.ceil(cat_plots / 3)\n",
    "\n",
    "fig, axs = plt.subplots(cat_rows, 3, figsize=(15, cat_rows*5))\n",
    "axs = axs.ravel() \n",
    "\n",
    "for i in range(len(axs)):\n",
    "    if i < len(cat_cols):\n",
    "        sns.countplot(data=X_train, x=cat_cols[i], ax=axs[i])\n",
    "        axs[i].set_title(f'Distribució de {cat_cols[i]}')\n",
    "        axs[i].set_xlabel(cat_cols[i])\n",
    "        axs[i].set_ylabel('Comptador')\n",
    "        axs[i].tick_params(axis='x', rotation=45)\n",
    "    else:\n",
    "        fig.delaxes(axs[i])  \n",
    "\n",
    "plt.tight_layout()\n",
    "plt.show()"
   ]
  },
  {
   "cell_type": "markdown",
   "metadata": {},
   "source": [
    "Usem un imputador per emplenar la resta de missings"
   ]
  },
  {
   "cell_type": "code",
   "execution_count": null,
   "metadata": {},
   "outputs": [],
   "source": [
    "import numpy as np\n",
    "from sklearn.experimental import enable_iterative_imputer\n",
    "from sklearn.impute import IterativeImputer\n",
    "\n",
    "num_cols = X_train.select_dtypes(include='number').columns\n",
    "\n",
    "numeric_delna = X_train[num_cols]\n",
    "imp_mean = IterativeImputer(random_state=0)\n",
    "imp_mean.fit(numeric_delna)\n",
    "\n",
    "X_train[num_cols] = imp_mean.transform(numeric_delna)\n",
    "X_test[num_cols] = imp_mean.transform(X_test[num_cols])"
   ]
  },
  {
   "cell_type": "code",
   "execution_count": null,
   "metadata": {},
   "outputs": [],
   "source": [
    "# Gráfics de barres per variables categòriques\n",
    "cat_cols = X_train.select_dtypes(include=['object', 'category']).columns\n",
    "cat_plots = len(cat_cols)\n",
    "cat_rows = math.ceil(cat_plots / 3)\n",
    "\n",
    "fig, axs = plt.subplots(cat_rows, 3, figsize=(15, cat_rows*5))\n",
    "axs = axs.ravel() \n",
    "\n",
    "for i in range(len(axs)):\n",
    "    if i < len(cat_cols):\n",
    "        sns.countplot(data=X_train, x=cat_cols[i], ax=axs[i])\n",
    "        axs[i].set_title(f'Distribució de {cat_cols[i]}')\n",
    "        axs[i].set_xlabel(cat_cols[i])\n",
    "        axs[i].set_ylabel('Comptador')\n",
    "        axs[i].tick_params(axis='x', rotation=45)\n",
    "    else:\n",
    "        fig.delaxes(axs[i])  \n",
    "\n",
    "plt.tight_layout()\n",
    "plt.show()"
   ]
  },
  {
   "cell_type": "code",
   "execution_count": null,
   "metadata": {},
   "outputs": [],
   "source": [
    "print(X_train[num_cols])"
   ]
  },
  {
   "cell_type": "markdown",
   "metadata": {},
   "source": [
    "Ens queden les categòriques. Emplenem amb KNN"
   ]
  },
  {
   "cell_type": "code",
   "execution_count": null,
   "metadata": {},
   "outputs": [],
   "source": [
    "from sklearn.neighbors import NearestNeighbors\n",
    "\n",
    "class KNNImputer:\n",
    "    def __init__(self, n_neighbors = 5):\n",
    "        self.n_neighbors = n_neighbors\n",
    "    def fit(self, X, numeric_cols):\n",
    "        self.X = X.copy() # suposem que les numeriques estan imputades\n",
    "        self.numeric = numeric_cols\n",
    "        self.vecinos = NearestNeighbors(n_neighbors=self.n_neighbors).fit(X.dropna()[numeric_cols])\n",
    "    def _get_mode(self, variable, indexs):\n",
    "        vecinos = [self.X.iloc[[i]].iloc[0] for i in indexs[0]]\n",
    "        valors = [v.iloc[variable] for v in vecinos]\n",
    "        unique, counts = np.unique(valors, return_counts = True)\n",
    "        mode = unique[np.argmax(counts)]\n",
    "        return mode\n",
    "    def _impute_row(self, row):\n",
    "        dist, indexs = self.vecinos.kneighbors([row[self.numeric]])\n",
    "        for variable, value in enumerate(row.isna()):\n",
    "            if value:\n",
    "                mode = self._get_mode(variable, indexs)\n",
    "                row.iloc[variable] = mode\n",
    "        return row\n",
    "    def transform(self, X):\n",
    "        X_imputed = []\n",
    "        for ind, row in X.iterrows():\n",
    "            new_row = self._impute_row(row)\n",
    "            X_imputed.append(new_row)\n",
    "        return pd.DataFrame(X_imputed, columns=X.columns)"
   ]
  },
  {
   "cell_type": "code",
   "execution_count": null,
   "metadata": {},
   "outputs": [],
   "source": [
    "cat_cols = X_train.select_dtypes(include=['object', 'category']).columns\n",
    "\n",
    "imputer = KNNImputer()\n",
    "\n",
    "imputer.fit(X_train, num_cols)\n",
    "\n",
    "X_train_new = imputer.transform(X_train)\n",
    "X_test_new = imputer.transform(X_test)\n",
    "\n",
    "X_train_new.head()"
   ]
  },
  {
   "cell_type": "code",
   "execution_count": null,
   "metadata": {},
   "outputs": [],
   "source": [
    "# Gráfics de barres per variables categòriques\n",
    "cat_cols = X_train.select_dtypes(include=['object', 'category']).columns\n",
    "cat_plots = len(cat_cols)\n",
    "cat_rows = math.ceil(cat_plots / 3)\n",
    "\n",
    "fig, axs = plt.subplots(cat_rows, 3, figsize=(15, cat_rows*5))\n",
    "axs = axs.ravel() \n",
    "\n",
    "for i in range(len(axs)):\n",
    "    if i < len(cat_cols):\n",
    "        sns.countplot(data=X_train, x=cat_cols[i], ax=axs[i])\n",
    "        axs[i].set_title(f'Distribució de {cat_cols[i]}')\n",
    "        axs[i].set_xlabel(cat_cols[i])\n",
    "        axs[i].set_ylabel('Comptador')\n",
    "        axs[i].tick_params(axis='x', rotation=45)\n",
    "    else:\n",
    "        fig.delaxes(axs[i])  \n",
    "\n",
    "plt.tight_layout()\n",
    "plt.show()"
   ]
  },
  {
   "cell_type": "code",
   "execution_count": null,
   "metadata": {},
   "outputs": [],
   "source": [
    "X_train_new.shape"
   ]
  },
  {
   "cell_type": "code",
   "execution_count": null,
   "metadata": {},
   "outputs": [],
   "source": [
    "# Mode imputation\n",
    "\"\"\"\n",
    "for col in deleted_na_perf.columns:\n",
    "    deleted_na_perf[col] = deleted_na_perf[col].fillna(value=deleted_na_perf[col].mode()[0])\n",
    "\"\"\""
   ]
  },
  {
   "cell_type": "markdown",
   "metadata": {},
   "source": [
    "Tractem les variables textuals de COVID"
   ]
  },
  {
   "cell_type": "code",
   "execution_count": null,
   "metadata": {},
   "outputs": [],
   "source": [
    "covid = ['covid_work', 'covid_mood', 'covid_sleep', 'covid_espacios', 'covid_aire',\n",
    "                'covid_motor', 'covid_electric', 'covid_bikewalk', 'covid_public_trans']\n",
    "\n",
    "for column in covid:\n",
    "    X_train_new[column] = X_train_new[column].apply(lambda x: 'Yes' if 'no' in x.lower() or 'igual' in x.lower() else 'No')\n",
    "    X_test_new[column] = X_test_new[column].apply(lambda x: 'Yes' if 'no' in x.lower() or 'igual' in x.lower() else 'No')\n",
    "\n",
    "# print categories for covid variables\n",
    "\n",
    "for col in covid:\n",
    "    print(f'{col}: {X_train_new[col].unique()}')"
   ]
  },
  {
   "cell_type": "code",
   "execution_count": null,
   "metadata": {},
   "outputs": [],
   "source": [
    "# Gráfics de barres per variables categòriques\n",
    "cat_cols = X_train_new.select_dtypes(include=['object', 'category']).columns\n",
    "cat_plots = len(cat_cols)\n",
    "cat_rows = math.ceil(cat_plots / 3)\n",
    "\n",
    "fig, axs = plt.subplots(cat_rows, 3, figsize=(15, cat_rows*5))\n",
    "axs = axs.ravel() \n",
    "\n",
    "for i in range(len(axs)):\n",
    "    if i < len(cat_cols):\n",
    "        sns.countplot(data=X_train_new, x=cat_cols[i], ax=axs[i])\n",
    "        axs[i].set_title(f'Distribució de {cat_cols[i]}')\n",
    "        axs[i].set_xlabel(cat_cols[i])\n",
    "        axs[i].set_ylabel('Comptador')\n",
    "        axs[i].tick_params(axis='x', rotation=45)\n",
    "    else:\n",
    "        fig.delaxes(axs[i])  \n",
    "\n",
    "plt.tight_layout()\n",
    "plt.show()"
   ]
  },
  {
   "cell_type": "code",
   "execution_count": null,
   "metadata": {},
   "outputs": [],
   "source": [
    "# Creem una nova variable anomenada 'covid_afecta' binaria, on True indica que la persona ha estat afectada per la covid i False en cas contrari.\n",
    "# Aquesta variable es crea a partir de les variables de la llista 'covid', i fem la moda de les respostes per a cada individu.\n",
    "\n",
    "for row in X_train_new.iterrows():\n",
    "    # Si la moda de les respostes de les variables de la llista 'covid' és 'Yes', la persona ha estat afectada per la covid\n",
    "    if row[1][covid].mode()[0] == 'Yes':\n",
    "        X_train_new.at[row[0], 'covid_afecta'] = 'Yes'\n",
    "    else:\n",
    "        X_train_new.at[row[0], 'covid_afecta'] = 'No'\n",
    "\n",
    "for row in X_test_new.iterrows():\n",
    "    # Si la moda de les respostes de les variables de la llista 'covid' és 'Yes', la persona ha estat afectada per la covid\n",
    "    if row[1][covid].mode()[0] == 'Yes':\n",
    "        X_test_new.at[row[0], 'covid_afecta'] = 'Yes'\n",
    "    else:\n",
    "        X_test_new.at[row[0], 'covid_afecta'] = 'No'\n",
    "\n",
    "# Eliminem les variables de la llista 'covid' ja que ja no les necessitem\n",
    "X_train_new = X_train_new.drop(covid, axis=1)\n",
    "X_test_new = X_test_new.drop(covid, axis=1)\n",
    "\n",
    "print(X_train_new['covid_afecta'].value_counts())"
   ]
  },
  {
   "cell_type": "code",
   "execution_count": null,
   "metadata": {},
   "outputs": [],
   "source": [
    "# Gráfics de barres per variables categòriques\n",
    "cat_cols = X_train_new.select_dtypes(include=['object', 'category']).columns\n",
    "cat_plots = len(cat_cols)\n",
    "cat_rows = math.ceil(cat_plots / 3)\n",
    "\n",
    "fig, axs = plt.subplots(cat_rows, 3, figsize=(15, cat_rows*5))\n",
    "axs = axs.ravel() \n",
    "\n",
    "for i in range(len(axs)):\n",
    "    if i < len(cat_cols):\n",
    "        sns.countplot(data=X_train_new, x=cat_cols[i], ax=axs[i])\n",
    "        axs[i].set_title(f'Distribució de {cat_cols[i]}')\n",
    "        axs[i].set_xlabel(cat_cols[i])\n",
    "        axs[i].set_ylabel('Comptador')\n",
    "        axs[i].tick_params(axis='x', rotation=45)\n",
    "    else:\n",
    "        fig.delaxes(axs[i])  \n",
    "\n",
    "plt.tight_layout()\n",
    "plt.show()"
   ]
  },
  {
   "cell_type": "markdown",
   "metadata": {},
   "source": [
    "## Recodificació de variables"
   ]
  },
  {
   "cell_type": "code",
   "execution_count": null,
   "metadata": {},
   "outputs": [],
   "source": [
    "to_cat = ['ID_Zenodo', 'precip_12h_binary', 'precip_24h_binary',\n",
    "               'noise_total_LDEN_55']\n",
    "\n",
    "for name in to_cat:\n",
    "    X_train_new[name] = X_train_new[name].astype('category')\n",
    "    X_test_new[name] = X_test_new[name].astype('category')"
   ]
  },
  {
   "cell_type": "code",
   "execution_count": null,
   "metadata": {},
   "outputs": [],
   "source": [
    "# Gráfics de barres per variables categòriques\n",
    "cat_cols = X_train_new.select_dtypes(include=['object', 'category']).columns\n",
    "cat_plots = len(cat_cols)\n",
    "cat_rows = math.ceil(cat_plots / 3)\n",
    "\n",
    "fig, axs = plt.subplots(cat_rows, 3, figsize=(15, cat_rows*5))\n",
    "axs = axs.ravel() \n",
    "\n",
    "for i in range(len(axs)):\n",
    "    if i < len(cat_cols):\n",
    "        sns.countplot(data=X_train_new, x=cat_cols[i], ax=axs[i])\n",
    "        axs[i].set_title(f'Distribució de {cat_cols[i]}')\n",
    "        axs[i].set_xlabel(cat_cols[i])\n",
    "        axs[i].set_ylabel('Comptador')\n",
    "        axs[i].tick_params(axis='x', rotation=45)\n",
    "    else:\n",
    "        fig.delaxes(axs[i])  \n",
    "\n",
    "plt.tight_layout()\n",
    "plt.show()"
   ]
  },
  {
   "cell_type": "code",
   "execution_count": null,
   "metadata": {},
   "outputs": [],
   "source": [
    "import numpy as np\n",
    "\n",
    "# Reemplaza 'nan' con np.nan\n",
    "X_train_new.replace('nan', np.nan, inplace=True)\n",
    "X_test_new.replace('nan', np.nan, inplace=True)\n",
    "\n",
    "#contar los valores nulos\n",
    "\n"
   ]
  },
  {
   "cell_type": "code",
   "execution_count": null,
   "metadata": {},
   "outputs": [],
   "source": [
    "# Gráfics de barres per variables categòriques\n",
    "cat_cols = X_train_new.select_dtypes(include=['object', 'category']).columns\n",
    "cat_plots = len(cat_cols)\n",
    "cat_rows = math.ceil(cat_plots / 3)\n",
    "\n",
    "fig, axs = plt.subplots(cat_rows, 3, figsize=(15, cat_rows*5))\n",
    "axs = axs.ravel() \n",
    "\n",
    "for i in range(len(axs)):\n",
    "    if i < len(cat_cols):\n",
    "        sns.countplot(data=X_train_new, x=cat_cols[i], ax=axs[i])\n",
    "        axs[i].set_title(f'Distribució de {cat_cols[i]}')\n",
    "        axs[i].set_xlabel(cat_cols[i])\n",
    "        axs[i].set_ylabel('Comptador')\n",
    "        axs[i].tick_params(axis='x', rotation=45)\n",
    "    else:\n",
    "        fig.delaxes(axs[i])  \n",
    "\n",
    "plt.tight_layout()\n",
    "plt.show()"
   ]
  },
  {
   "cell_type": "code",
   "execution_count": null,
   "metadata": {},
   "outputs": [],
   "source": [
    "import pandas as pd\n",
    "from sklearn.preprocessing import OneHotEncoder\n",
    "\n",
    "# Suponiendo que tienes un DataFrame X_train_new que contiene tus datos\n",
    "# cat_cols contiene las columnas categóricas, excluyendo la columna 'ID_Zenodo'\n",
    "cat_cols = X_train_new.select_dtypes(include=['object', 'category']).columns\n",
    "cat_cols = cat_cols.drop('ID_Zenodo')\n",
    "\n",
    "# Subconjunto de DataFrame con solo las columnas categóricas\n",
    "X_train_cat = X_train_new[cat_cols]\n",
    "\n",
    "# Inicializa el codificador OneHotEncoder\n",
    "encoder = OneHotEncoder(sparse=False)\n",
    "\n",
    "# Ajusta y transforma las columnas categóricas utilizando la codificación one-hot\n",
    "one_hot_encoded = encoder.fit_transform(X_train_cat)\n",
    "\n",
    "# Convierte la matriz de codificación one-hot en un DataFrame de pandas\n",
    "one_hot_df = pd.DataFrame(one_hot_encoded, columns=encoder.get_feature_names(cat_cols))\n",
    "\n",
    "# Combina el DataFrame codificado one-hot con el resto de tus datos\n",
    "X_train_encoded = pd.concat([X_train_new.drop(cat_cols, axis=1), one_hot_df], axis=1)\n",
    "\n",
    "# Ahora X_train_encoded contiene todas las variables originales, pero las variables categóricas han sido codificadas con one-hot\n"
   ]
  },
  {
   "cell_type": "code",
   "execution_count": null,
   "metadata": {},
   "outputs": [],
   "source": [
    "# Gráfics de barres per variables categòriques\n",
    "cat_cols = X_train_encoded.select_dtypes(include=['object', 'category']).columns\n",
    "cat_plots = len(cat_cols)\n",
    "cat_rows = math.ceil(cat_plots / 3)\n",
    "\n",
    "fig, axs = plt.subplots(cat_rows, 3, figsize=(15, cat_rows*5))\n",
    "axs = axs.ravel() \n",
    "\n",
    "for i in range(len(axs)):\n",
    "    if i < len(cat_cols):\n",
    "        sns.countplot(data=X_train_encoded, x=cat_cols[i], ax=axs[i])\n",
    "        axs[i].set_title(f'Distribució de {cat_cols[i]}')\n",
    "        axs[i].set_xlabel(cat_cols[i])\n",
    "        axs[i].set_ylabel('Comptador')\n",
    "        axs[i].tick_params(axis='x', rotation=45)\n",
    "    else:\n",
    "        fig.delaxes(axs[i])  \n",
    "\n",
    "plt.tight_layout()\n",
    "plt.show()"
   ]
  },
  {
   "cell_type": "code",
   "execution_count": null,
   "metadata": {},
   "outputs": [],
   "source": [
    "# Gráfics de distribució per variables numèriques\n",
    "num_cols = X_train_encoded.select_dtypes(include='number').columns\n",
    "num_plots = len(num_cols)\n",
    "num_rows = math.ceil(num_plots / 3)\n",
    "\n",
    "fig, axs = plt.subplots(num_rows, 3, figsize=(15, num_rows*5))\n",
    "axs = axs.ravel()  \n",
    "\n",
    "for i in range(len(axs)):\n",
    "    if i < len(num_cols):\n",
    "        sns.histplot(X_train_encoded[num_cols[i]], kde=True, ax=axs[i])\n",
    "        axs[i].set_title(f'Distribució de {num_cols[i]}')\n",
    "        axs[i].set_xlabel(num_cols[i])\n",
    "        axs[i].set_ylabel('Frequència')\n",
    "    else:\n",
    "        fig.delaxes(axs[i]) \n",
    "\n",
    "plt.tight_layout()\n",
    "plt.show()\n"
   ]
  },
  {
   "cell_type": "markdown",
   "metadata": {},
   "source": [
    "Escalem les variables"
   ]
  },
  {
   "cell_type": "code",
   "execution_count": null,
   "metadata": {},
   "outputs": [],
   "source": [
    "from sklearn.preprocessing import MinMaxScaler\n",
    "\n",
    "# Creem una còpia del DataFrame\n",
    "X_train_std = X_train_encoded.copy()\n",
    "\n",
    "# Apliquem la transformació MinMaxScaler a les variables numèriques originals\n",
    "num_cols = X_train_encoded.select_dtypes(include='number').columns\n",
    "\n",
    "# Creem un objecte MinMaxScaler i l'ajustem al conjunt de train\n",
    "scaler = MinMaxScaler()\n",
    "X_train_std[num_cols] = scaler.fit_transform(X_train_encoded[num_cols])\n",
    "\n",
    "# Apliquem la mateixa transformació al conjunt de test\n",
    "X_test_std = X_test_encoded.copy()\n",
    "X_test_std[num_cols] = scaler.transform(X_test_encoded[num_cols])\n",
    "\n",
    "# Printejem les estadístiques de les variables numèriques (mínim, màxim i mitjana només) per a train i test\n",
    "print(\"Estadístiques de les variables numèriques per a train:\")\n",
    "print(X_train_std[num_cols].describe().loc[['min', 'max', 'mean']])\n",
    "print(\"\\n\")\n",
    "\n",
    "print(\"Estadístiques de les variables numèriques per a test:\")\n",
    "print(X_test_std[num_cols].describe().loc[['min', 'max', 'mean']])\n",
    "print(\"\\n\")"
   ]
  },
  {
   "cell_type": "markdown",
   "metadata": {},
   "source": [
    "## Model de regressió lineal"
   ]
  },
  {
   "cell_type": "code",
   "execution_count": null,
   "metadata": {},
   "outputs": [],
   "source": [
    "# mirem nas a xtrainstd\n",
    "print(X_train_encoded.isnull().sum())"
   ]
  },
  {
   "cell_type": "code",
   "execution_count": null,
   "metadata": {},
   "outputs": [],
   "source": [
    "from sklearn.linear_model import LinearRegression\n",
    "from sklearn.metrics import r2_score\n",
    "from sklearn.model_selection import cross_val_score\n",
    "\n",
    "lr = LinearRegression().fit(X_train_std ,y_train)\n",
    "lr_r2_train = r2_score(y_train, lr.predict(X_train))\n",
    "lr_r2_val = cross_val_score(lr, X_train, y_train, cv=5, scoring='r2').mean()\n",
    "lr_r2_test = r2_score(y_test, lr.predict(X_test_std))"
   ]
  },
  {
   "cell_type": "code",
   "execution_count": null,
   "metadata": {},
   "outputs": [],
   "source": [
    "import matplotlib.pyplot as plt\n",
    "from yellowbrick.regressor import prediction_error\n",
    "\n",
    "plt.figure(figsize=(8,8))\n",
    "visualizer = prediction_error(lr, X_test_std, y_test, is_fitted=True)"
   ]
  }
 ],
 "metadata": {
  "kernelspec": {
   "display_name": "Python 3",
   "language": "python",
   "name": "python3"
  },
  "language_info": {
   "codemirror_mode": {
    "name": "ipython",
    "version": 3
   },
   "file_extension": ".py",
   "mimetype": "text/x-python",
   "name": "python",
   "nbconvert_exporter": "python",
   "pygments_lexer": "ipython3",
   "version": "3.10.11"
  }
 },
 "nbformat": 4,
 "nbformat_minor": 2
}
